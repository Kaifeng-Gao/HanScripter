{
 "cells": [
  {
   "cell_type": "code",
   "execution_count": 2,
   "id": "9b2603bd-1677-4544-a740-642526bda664",
   "metadata": {},
   "outputs": [],
   "source": [
    "import torch\n",
    "import transformers, evaluate\n",
    "from transformers import AutoModelForCausalLM, AutoTokenizer\n",
    "from peft import LoraConfig, PeftModel\n",
    "import time\n",
    "from datasets import load_dataset"
   ]
  },
  {
   "cell_type": "code",
   "execution_count": 3,
   "id": "f4084207-a833-4f0f-b3ba-f3e82e1121f4",
   "metadata": {},
   "outputs": [],
   "source": [
    "model_path = \"meta-llama/Meta-Llama-3-8B-Instruct\"\n",
    "new_model_path = \"Llama-3-Han\"\n",
    "dataset_path = \"KaifengGGG/WenYanWen_English_Parrallel\"\n",
    "dataset_config = \"instruct\""
   ]
  },
  {
   "cell_type": "code",
   "execution_count": 3,
   "id": "57c0a730-2967-47b8-8cf7-f6ce1597fda2",
   "metadata": {},
   "outputs": [],
   "source": [
    "def load_peft_model_and_tokenizer(model_path, new_model_path):\n",
    "    \"\"\"Loads a PEFT model from the given path and merges it with the base model.\"\"\"\n",
    "    base_model = AutoModelForCausalLM.from_pretrained(model_path, device_map=\"auto\")\n",
    "    model = PeftModel.from_pretrained(base_model, new_model_path)\n",
    "    model = model.merge_and_unload()\n",
    "    tokenizer = AutoTokenizer.from_pretrained(model_path)\n",
    "    tokenizer.pad_token = tokenizer.eos_token\n",
    "    tokenizer.padding_side = \"right\"\n",
    "    return model, tokenizer\n",
    "\n",
    "def load_base_model_and_tokenizer(model_path):\n",
    "    \"\"\"Loads the base transformer model and tokenizer from the given path.\"\"\"\n",
    "    model = AutoModelForCausalLM.from_pretrained(model_path, device_map=\"auto\")\n",
    "    tokenizer = AutoTokenizer.from_pretrained(model_path, use_fast=True)\n",
    "    return model, tokenizer"
   ]
  },
  {
   "cell_type": "code",
   "execution_count": null,
   "id": "78c0f7f6-440e-4183-ad8a-7603c963c178",
   "metadata": {},
   "outputs": [
    {
     "data": {
      "application/vnd.jupyter.widget-view+json": {
       "model_id": "6e66afbf17a141198d840c154e193a6c",
       "version_major": 2,
       "version_minor": 0
      },
      "text/plain": [
       "Loading checkpoint shards:   0%|          | 0/4 [00:00<?, ?it/s]"
      ]
     },
     "metadata": {},
     "output_type": "display_data"
    }
   ],
   "source": [
    "model, tokenizer = load_peft_model_and_tokenizer(model_path, new_model_path)\n",
    "# model, tokenizer = load_base_model_and_tokenizer(model_path)"
   ]
  },
  {
   "cell_type": "code",
   "execution_count": 8,
   "id": "1416ee30-94e4-40da-9704-bd20c01c97bc",
   "metadata": {},
   "outputs": [],
   "source": [
    "pipeline = transformers.pipeline(\n",
    "    \"text-generation\",\n",
    "    model=model,\n",
    "    tokenizer=tokenizer,\n",
    "    model_kwargs={\"torch_dtype\": torch.bfloat16}\n",
    ")"
   ]
  },
  {
   "cell_type": "code",
   "execution_count": 9,
   "id": "2be6c2d2-8205-4e0e-abaa-0eda8471d203",
   "metadata": {},
   "outputs": [
    {
     "data": {
      "text/plain": [
       "'<|begin_of_text|><|start_header_id|>user<|end_header_id|>\\n\\nGiven the Classical Chinese text: 识者恶之。, provide a step-by-step translation process to arrive at the English translation.<|eot_id|><|start_header_id|>assistant<|end_header_id|>\\n\\n'"
      ]
     },
     "execution_count": 9,
     "metadata": {},
     "output_type": "execute_result"
    }
   ],
   "source": [
    "messages = [\n",
    "    {\"role\": \"user\", \"content\": \"Given the Classical Chinese text: 识者恶之。, provide a step-by-step translation process to arrive at the English translation.\"},\n",
    "]\n",
    "\n",
    "prompt = pipeline.tokenizer.apply_chat_template(\n",
    "    messages, \n",
    "    tokenize=False, \n",
    "    add_generation_prompt=True\n",
    ")\n",
    "prompt\n"
   ]
  },
  {
   "cell_type": "code",
   "execution_count": 10,
   "id": "1756af46-be6b-40e2-bf2d-c3710934611d",
   "metadata": {},
   "outputs": [],
   "source": [
    "terminators = [\n",
    "    pipeline.tokenizer.eos_token_id,\n",
    "    pipeline.tokenizer.convert_tokens_to_ids(\"<|eot_id|>\")\n",
    "]"
   ]
  },
  {
   "cell_type": "code",
   "execution_count": 11,
   "id": "6727987e-cedc-4973-a4b4-22006247d012",
   "metadata": {},
   "outputs": [
    {
     "name": "stderr",
     "output_type": "stream",
     "text": [
      "Setting `pad_token_id` to `eos_token_id`:128001 for open-end generation.\n"
     ]
    }
   ],
   "source": [
    "outputs = pipeline(\n",
    "    prompt,\n",
    "    max_new_tokens=256,\n",
    "    eos_token_id=terminators,\n",
    "    do_sample=True,\n",
    "    temperature=0.6,\n",
    "    top_p=0.9,\n",
    ")"
   ]
  },
  {
   "cell_type": "code",
   "execution_count": 12,
   "id": "febc352f-fe24-4bd5-96fc-5789bdcbfbd1",
   "metadata": {},
   "outputs": [
    {
     "data": {
      "text/plain": [
       "'A great example! Here\\'s a step-by-step translation process for the Classical Chinese text:\\n\\n**Text:** 识者恶之 (shí zhě è zhī)\\n\\n**Step 1: Break down the text into its constituent parts**\\n\\n* 识 (shí) - a verb meaning \"to know\" or \"to recognize\"\\n* 者 (zhě) - a particle indicating the subject of the sentence\\n* 恶 (è) - a verb meaning \"to hate\" or \"to dislike\"\\n* 之 (zhī) - a particle indicating the object of the sentence\\n\\n**Step 2: Identify the grammatical structure**\\n\\n* The sentence is in the passive voice, with the subject (者) receiving the action of the verb (识).\\n* The verb (识) is in the present tense, indicating a general truth or a habitual action.\\n* The object (之) is the recipient of the action of the verb (恶).\\n\\n**Step 3: Translate each part**\\n\\n* 识 (shí) - \"to know\" or \"to recognize\"\\n* 者 (zhě) - \"the one who\" or \"the person who\"\\n* 恶 (è) - \"hates\" or \"dislikes\"\\n* 之'"
      ]
     },
     "execution_count": 12,
     "metadata": {},
     "output_type": "execute_result"
    }
   ],
   "source": [
    "outputs[0][\"generated_text\"][len(prompt):]"
   ]
  },
  {
   "cell_type": "code",
   "execution_count": 13,
   "id": "2733181c-6029-4954-8bc7-fc7e8e42fcf9",
   "metadata": {},
   "outputs": [
    {
     "name": "stdout",
     "output_type": "stream",
     "text": [
      "[{'generated_text': '<|begin_of_text|><|start_header_id|>user<|end_header_id|>\\n\\nGiven the Classical Chinese text: 识者恶之。, provide a step-by-step translation process to arrive at the English translation.<|eot_id|><|start_header_id|>assistant<|end_header_id|>\\n\\nA great example! Here\\'s a step-by-step translation process for the Classical Chinese text:\\n\\n**Text:** 识者恶之 (shí zhě è zhī)\\n\\n**Step 1: Break down the text into its constituent parts**\\n\\n* 识 (shí) - a verb meaning \"to know\" or \"to recognize\"\\n* 者 (zhě) - a particle indicating the subject of the sentence\\n* 恶 (è) - a verb meaning \"to hate\" or \"to dislike\"\\n* 之 (zhī) - a particle indicating the object of the sentence\\n\\n**Step 2: Identify the grammatical structure**\\n\\n* The sentence is in the passive voice, with the subject (者) receiving the action of the verb (识).\\n* The verb (识) is in the present tense, indicating a general truth or a habitual action.\\n* The object (之) is the recipient of the action of the verb (恶).\\n\\n**Step 3: Translate each part**\\n\\n* 识 (shí) - \"to know\" or \"to recognize\"\\n* 者 (zhě) - \"the one who\" or \"the person who\"\\n* 恶 (è) - \"hates\" or \"dislikes\"\\n* 之'}]\n"
     ]
    }
   ],
   "source": [
    "print(outputs)"
   ]
  },
  {
   "cell_type": "code",
   "execution_count": 23,
   "id": "cdfb9e56-0056-427d-9035-6f33fcff9e66",
   "metadata": {},
   "outputs": [],
   "source": [
    "dataset = load_dataset(dataset_path, dataset_config)\n",
    "dataset_train, dataset_test = dataset.select_columns([\"classical\", \"english\"]).values()"
   ]
  },
  {
   "cell_type": "code",
   "execution_count": 44,
   "id": "bfab5547-eed8-4b3f-9fae-17cdd1c7eea0",
   "metadata": {},
   "outputs": [
    {
     "name": "stdout",
     "output_type": "stream",
     "text": [
      "{'classical': '冰益壮，地始坼，鹖鴠不鸣，虎始交。', 'english': \"During this month, the ice becomes increasingly solid and cracks appear on the ground's surface. The oriole stops singing, and tigers begin mating.\"}\n",
      "{'classical': '孟尝君闻冯驩烧券书，怒而使使召驩。', 'english': 'When Meng Changjun heard the news that Feng Xuan had burned the promissory notes, he was very angry and immediately sent someone to recall Feng Xuan.'}\n",
      "{'classical': '本枝百世，继绪不忘。继绪不忘，休有烈光。', 'english': 'The direct lineage and collateral branches continue for a hundred generations, never forgetting to inherit the cause of their ancestors.'}\n",
      "{'classical': '自今案《论语》之文，孔子之言多若笑弦歌之辞，弟子寡若子游之难，故孔子之言遂结不解。', 'english': \"Even when examining the original text of the Analects, many of Confucius's remarks still sound like mockery of playing the qin and singing, but among his disciples, few dared to argue back like Ziyou, so Confucius's words have always been somewhat like a dead end and could not be untied.\"}\n",
      "{'classical': '己卯，使持节、侍中、都督扬州诸军事、扬州刺史、骠骑将军、录尚书事、都乡侯何充卒。', 'english': 'On January 31st, He Chong, envoy, imperial attendant, governor of military affairs in Yangzhou, governor of Yangzhou, general of cavalry and chariots, recorder of imperial secretariat, and Marquis of Duxian, died.'}\n",
      "1000\n"
     ]
    }
   ],
   "source": [
    "for row in dataset_test.select(range(5)):\n",
    "    print(row)\n",
    "print(len(dataset_test))"
   ]
  },
  {
   "cell_type": "code",
   "execution_count": 15,
   "id": "d8f90bc5-eec2-4d9e-aa62-a803223c3b2c",
   "metadata": {},
   "outputs": [],
   "source": [
    "prompts = []\n",
    "references = []\n",
    "for message in dataset_test[\"messages\"]:\n",
    "    message = pipeline.tokenizer.apply_chat_template(\n",
    "        message, \n",
    "        tokenize=False, \n",
    "        add_generation_prompt=False)\n",
    "    prompt, separator, reference = message.partition(\"<|start_header_id|>assistant<|end_header_id|>\\n\\n\")\n",
    "    prompt = prompt + separator\n",
    "    prompts.append(prompt)\n",
    "    references.append(reference)"
   ]
  },
  {
   "cell_type": "code",
   "execution_count": 16,
   "id": "0ba10715-3fc4-483d-978c-a7f96db4e876",
   "metadata": {},
   "outputs": [
    {
     "data": {
      "text/plain": [
       "'Step 1: Identify the individual characters and their meanings:\\n识 (shí) - to know, to recognize\\n者 (zhě) - a person who knows, a connoisseur\\n恶 (wù) - to hate, to loathe\\n之 (zhī) - it\\n\\nStep 2: Combine the characters into phrases and determine their grammatical function:\\n识者 (shízhě) - people with good judgment\\n恶之 (wùzhī) - to greatly loathe it\\n\\nStep 3: Form the complete sentence:\\n识者恶之。(Shízhě wùzhī.) - People with good judgment greatly loathed this.\\n\\nFinal English translation: People with good judgment greatly loathed this.<|eot_id|>'"
      ]
     },
     "execution_count": 16,
     "metadata": {},
     "output_type": "execute_result"
    }
   ],
   "source": [
    "references[0]"
   ]
  },
  {
   "cell_type": "code",
   "execution_count": 17,
   "id": "ebb97a65-433a-439e-abed-8027e38c8db3",
   "metadata": {},
   "outputs": [
    {
     "data": {
      "text/plain": [
       "['<|begin_of_text|><|start_header_id|>user<|end_header_id|>\\n\\nGiven the Classical Chinese text: 识者恶之。, provide a step-by-step translation process to arrive at the English translation.<|eot_id|><|start_header_id|>assistant<|end_header_id|>\\n\\n',\n",
       " '<|begin_of_text|><|start_header_id|>user<|end_header_id|>\\n\\nOffer an English rendition of the specified Classical Chinese text, then elaborate on the grammatical and lexemic variances from Classical Chinese to English: 虽有急，弗畔；虽有离，弗畔。<|eot_id|><|start_header_id|>assistant<|end_header_id|>\\n\\n',\n",
       " '<|begin_of_text|><|start_header_id|>user<|end_header_id|>\\n\\n请提供这段文言文的现代汉语解释: 因锁闭堂中四十余日，益加爽秀，寰方惊骇焉。<|eot_id|><|start_header_id|>assistant<|end_header_id|>\\n\\n',\n",
       " '<|begin_of_text|><|start_header_id|>user<|end_header_id|>\\n\\n将以下现代汉语文本改写为文言文: 项羽派人回去报告楚怀王。<|eot_id|><|start_header_id|>assistant<|end_header_id|>\\n\\n',\n",
       " '<|begin_of_text|><|start_header_id|>user<|end_header_id|>\\n\\nTranspose the following Modern Chinese text into Classical Chinese: 马大同镇守京口，他刚强坚定，自以为是，汪纲的言论不放肆谲诈，又不追逐潮流。<|eot_id|><|start_header_id|>assistant<|end_header_id|>\\n\\n',\n",
       " '<|begin_of_text|><|start_header_id|>user<|end_header_id|>\\n\\nConvert the following modern Chinese text into Classical Chinese: 这一天阵雨不时地下，从楼上往北眺望雪山，隐隐约约、浮现不定，往南窥视坝子，桃花柳树缤纷，因此举饮满杯的酒。<|eot_id|><|start_header_id|>assistant<|end_header_id|>\\n\\n',\n",
       " '<|begin_of_text|><|start_header_id|>user<|end_header_id|>\\n\\nRewrite the following English passage in the style of Classical Chinese: When the imperial government found out, it promoted him to a higher official position.<|eot_id|><|start_header_id|>assistant<|end_header_id|>\\n\\n',\n",
       " '<|begin_of_text|><|start_header_id|>user<|end_header_id|>\\n\\n对于下面每对文言文和现代汉语段落, 请创作一个能够体现核心信息的英语翻译: 文言文: 太初元年夏，蝗从东方蜚至敦煌；三年秋，复蝗。 现代汉语: 太初元年夏季，蝗虫从东方飞到敦煌；三年秋季，再次发生蝗灾。<|eot_id|><|start_header_id|>assistant<|end_header_id|>\\n\\n',\n",
       " '<|begin_of_text|><|start_header_id|>user<|end_header_id|>\\n\\n将以下文言文翻译成现代汉语: 丁亥，募河东、陕西民入粟实边。<|eot_id|><|start_header_id|>assistant<|end_header_id|>\\n\\n',\n",
       " '<|begin_of_text|><|start_header_id|>user<|end_header_id|>\\n\\nProvide a modern Chinese interpretation of the following Classical Chinese passage: 癸未，荧惑犯太微右执法。<|eot_id|><|start_header_id|>assistant<|end_header_id|>\\n\\n']"
      ]
     },
     "execution_count": 17,
     "metadata": {},
     "output_type": "execute_result"
    }
   ],
   "source": [
    "prompts, references = prompts[:10], references[:10]\n",
    "prompts"
   ]
  },
  {
   "cell_type": "code",
   "execution_count": 18,
   "id": "c0ef271c-9a9e-4993-81f2-21c38dc167c5",
   "metadata": {},
   "outputs": [
    {
     "name": "stderr",
     "output_type": "stream",
     "text": [
      "Setting `pad_token_id` to `eos_token_id`:128001 for open-end generation.\n",
      "Setting `pad_token_id` to `eos_token_id`:128001 for open-end generation.\n",
      "Setting `pad_token_id` to `eos_token_id`:128001 for open-end generation.\n",
      "Setting `pad_token_id` to `eos_token_id`:128001 for open-end generation.\n",
      "Setting `pad_token_id` to `eos_token_id`:128001 for open-end generation.\n",
      "Setting `pad_token_id` to `eos_token_id`:128001 for open-end generation.\n",
      "Setting `pad_token_id` to `eos_token_id`:128001 for open-end generation.\n",
      "Setting `pad_token_id` to `eos_token_id`:128001 for open-end generation.\n",
      "Setting `pad_token_id` to `eos_token_id`:128001 for open-end generation.\n",
      "Setting `pad_token_id` to `eos_token_id`:128001 for open-end generation.\n"
     ]
    }
   ],
   "source": [
    "outputs = pipeline(\n",
    "    prompts,\n",
    "    max_new_tokens=256,\n",
    "    eos_token_id=terminators,\n",
    "    do_sample=True,\n",
    "    temperature=0.8,\n",
    "    top_p=0.9,\n",
    ")"
   ]
  },
  {
   "cell_type": "code",
   "execution_count": 19,
   "id": "015a8360-3609-4d98-868a-2aa12fededd4",
   "metadata": {},
   "outputs": [
    {
     "name": "stdout",
     "output_type": "stream",
     "text": [
      "Here's a step-by-step translation process for the Classical Chinese text:\n",
      "\n",
      "\n",
      "\n",
      "**Step 1: Identify the characters**\n",
      "\n",
      "* (shí) - \"to know\" or \"to recognize\"\n",
      "* (zhě) - \"that\" or \"which\"\n",
      "* (è) - \"evil\" or \"bad\"\n",
      "* (zhī) - \"of\" or \"belonging to\"\n",
      "\n",
      "**Step 2: Analyze the grammatical structure**\n",
      "\n",
      "* The sentence uses the verb-subject-object (VSO) word order, which is common in Classical Chinese.\n",
      "* The verb (識) is in the present tense, indicating a general or habitual action.\n",
      "\n",
      "**Step 3: Identify the subject**\n",
      "\n",
      "* The subject of the sentence is (識), which is a nominalized verb meaning \"to recognize\" or \"to know\". In this context, it's a abstract noun representing the concept of recognition or understanding.\n",
      "\n",
      "**Step 4: Identify the predicate**\n",
      "\n",
      "* The predicate is (恶之), which consists of two characters:\n",
      "\t+ (è) - \"evil\" or \"bad\"\n",
      "\t+ (zhī) - \"of\" or \"belonging to\"\n",
      "\n",
      "**Step 5: Determine the meaning of the predicate**\n",
      "\n",
      "* The character (è)\n"
     ]
    }
   ],
   "source": [
    "predictions = [output[0]['generated_text'][len(prompt):] for output, prompt in zip(outputs, prompts)]\n",
    "print(predictions[0])"
   ]
  },
  {
   "cell_type": "code",
   "execution_count": 20,
   "id": "e1c7fbde-33fb-48d7-900e-edb53ecd5c5a",
   "metadata": {},
   "outputs": [
    {
     "data": {
      "text/plain": [
       "{'score': 1.675587669619537,\n",
       " 'counts': [113, 43, 20, 7],\n",
       " 'totals': [1729, 1719, 1709, 1699],\n",
       " 'precisions': [6.5355696934644305,\n",
       "  2.501454333915067,\n",
       "  1.1702750146284377,\n",
       "  0.4120070629782225],\n",
       " 'bp': 1.0,\n",
       " 'sys_len': 1729,\n",
       " 'ref_len': 280}"
      ]
     },
     "execution_count": 20,
     "metadata": {},
     "output_type": "execute_result"
    }
   ],
   "source": [
    "sacrebleu = evaluate.load(\"sacrebleu\")\n",
    "sacrebleu_results=sacrebleu.compute(predictions=predictions, references=references)\n",
    "sacrebleu_results"
   ]
  },
  {
   "cell_type": "code",
   "execution_count": 54,
   "id": "10c30993-6159-445f-98d5-1c9c1766c4a8",
   "metadata": {},
   "outputs": [
    {
     "name": "stdout",
     "output_type": "stream",
     "text": [
      "Requirement already satisfied: evaluate in /vast/palmer/home.grace/cpsc477_kg797/.conda/envs/cpsc577/lib/python3.10/site-packages (0.4.1)\n",
      "Requirement already satisfied: datasets>=2.0.0 in /vast/palmer/home.grace/cpsc477_kg797/.conda/envs/cpsc577/lib/python3.10/site-packages (from evaluate) (2.19.0)\n",
      "Requirement already satisfied: numpy>=1.17 in /vast/palmer/home.grace/cpsc477_kg797/.conda/envs/cpsc577/lib/python3.10/site-packages (from evaluate) (1.26.4)\n",
      "Requirement already satisfied: dill in /vast/palmer/home.grace/cpsc477_kg797/.conda/envs/cpsc577/lib/python3.10/site-packages (from evaluate) (0.3.8)\n",
      "Requirement already satisfied: pandas in /vast/palmer/home.grace/cpsc477_kg797/.conda/envs/cpsc577/lib/python3.10/site-packages (from evaluate) (2.2.2)\n",
      "Requirement already satisfied: requests>=2.19.0 in /vast/palmer/home.grace/cpsc477_kg797/.conda/envs/cpsc577/lib/python3.10/site-packages (from evaluate) (2.31.0)\n",
      "Requirement already satisfied: tqdm>=4.62.1 in /vast/palmer/home.grace/cpsc477_kg797/.conda/envs/cpsc577/lib/python3.10/site-packages (from evaluate) (4.66.2)\n",
      "Requirement already satisfied: xxhash in /vast/palmer/home.grace/cpsc477_kg797/.conda/envs/cpsc577/lib/python3.10/site-packages (from evaluate) (3.4.1)\n",
      "Requirement already satisfied: multiprocess in /vast/palmer/home.grace/cpsc477_kg797/.conda/envs/cpsc577/lib/python3.10/site-packages (from evaluate) (0.70.16)\n",
      "Requirement already satisfied: fsspec>=2021.05.0 in /vast/palmer/home.grace/cpsc477_kg797/.conda/envs/cpsc577/lib/python3.10/site-packages (from fsspec[http]>=2021.05.0->evaluate) (2024.3.1)\n",
      "Requirement already satisfied: huggingface-hub>=0.7.0 in /vast/palmer/home.grace/cpsc477_kg797/.conda/envs/cpsc577/lib/python3.10/site-packages (from evaluate) (0.22.2)\n",
      "Requirement already satisfied: packaging in /vast/palmer/home.grace/cpsc477_kg797/.conda/envs/cpsc577/lib/python3.10/site-packages (from evaluate) (24.0)\n",
      "Requirement already satisfied: responses<0.19 in /vast/palmer/home.grace/cpsc477_kg797/.conda/envs/cpsc577/lib/python3.10/site-packages (from evaluate) (0.18.0)\n",
      "Requirement already satisfied: filelock in /vast/palmer/home.grace/cpsc477_kg797/.conda/envs/cpsc577/lib/python3.10/site-packages (from datasets>=2.0.0->evaluate) (3.13.4)\n",
      "Requirement already satisfied: pyarrow>=12.0.0 in /vast/palmer/home.grace/cpsc477_kg797/.conda/envs/cpsc577/lib/python3.10/site-packages (from datasets>=2.0.0->evaluate) (15.0.2)\n",
      "Requirement already satisfied: pyarrow-hotfix in /vast/palmer/home.grace/cpsc477_kg797/.conda/envs/cpsc577/lib/python3.10/site-packages (from datasets>=2.0.0->evaluate) (0.6)\n",
      "Requirement already satisfied: aiohttp in /vast/palmer/home.grace/cpsc477_kg797/.conda/envs/cpsc577/lib/python3.10/site-packages (from datasets>=2.0.0->evaluate) (3.9.3)\n",
      "Requirement already satisfied: pyyaml>=5.1 in /vast/palmer/home.grace/cpsc477_kg797/.conda/envs/cpsc577/lib/python3.10/site-packages (from datasets>=2.0.0->evaluate) (6.0.1)\n",
      "Requirement already satisfied: typing-extensions>=3.7.4.3 in /vast/palmer/home.grace/cpsc477_kg797/.conda/envs/cpsc577/lib/python3.10/site-packages (from huggingface-hub>=0.7.0->evaluate) (4.11.0)\n",
      "Requirement already satisfied: charset-normalizer<4,>=2 in /vast/palmer/home.grace/cpsc477_kg797/.conda/envs/cpsc577/lib/python3.10/site-packages (from requests>=2.19.0->evaluate) (3.3.2)\n",
      "Requirement already satisfied: idna<4,>=2.5 in /vast/palmer/home.grace/cpsc477_kg797/.conda/envs/cpsc577/lib/python3.10/site-packages (from requests>=2.19.0->evaluate) (3.7)\n",
      "Requirement already satisfied: urllib3<3,>=1.21.1 in /vast/palmer/home.grace/cpsc477_kg797/.conda/envs/cpsc577/lib/python3.10/site-packages (from requests>=2.19.0->evaluate) (2.2.1)\n",
      "Requirement already satisfied: certifi>=2017.4.17 in /vast/palmer/home.grace/cpsc477_kg797/.conda/envs/cpsc577/lib/python3.10/site-packages (from requests>=2.19.0->evaluate) (2024.2.2)\n",
      "Requirement already satisfied: python-dateutil>=2.8.2 in /vast/palmer/home.grace/cpsc477_kg797/.conda/envs/cpsc577/lib/python3.10/site-packages (from pandas->evaluate) (2.9.0)\n",
      "Requirement already satisfied: pytz>=2020.1 in /vast/palmer/home.grace/cpsc477_kg797/.conda/envs/cpsc577/lib/python3.10/site-packages (from pandas->evaluate) (2024.1)\n",
      "Requirement already satisfied: tzdata>=2022.7 in /vast/palmer/home.grace/cpsc477_kg797/.conda/envs/cpsc577/lib/python3.10/site-packages (from pandas->evaluate) (2024.1)\n",
      "Requirement already satisfied: aiosignal>=1.1.2 in /vast/palmer/home.grace/cpsc477_kg797/.conda/envs/cpsc577/lib/python3.10/site-packages (from aiohttp->datasets>=2.0.0->evaluate) (1.3.1)\n",
      "Requirement already satisfied: attrs>=17.3.0 in /vast/palmer/home.grace/cpsc477_kg797/.conda/envs/cpsc577/lib/python3.10/site-packages (from aiohttp->datasets>=2.0.0->evaluate) (23.2.0)\n",
      "Requirement already satisfied: frozenlist>=1.1.1 in /vast/palmer/home.grace/cpsc477_kg797/.conda/envs/cpsc577/lib/python3.10/site-packages (from aiohttp->datasets>=2.0.0->evaluate) (1.4.1)\n",
      "Requirement already satisfied: multidict<7.0,>=4.5 in /vast/palmer/home.grace/cpsc477_kg797/.conda/envs/cpsc577/lib/python3.10/site-packages (from aiohttp->datasets>=2.0.0->evaluate) (6.0.5)\n",
      "Requirement already satisfied: yarl<2.0,>=1.0 in /vast/palmer/home.grace/cpsc477_kg797/.conda/envs/cpsc577/lib/python3.10/site-packages (from aiohttp->datasets>=2.0.0->evaluate) (1.9.4)\n",
      "Requirement already satisfied: async-timeout<5.0,>=4.0 in /vast/palmer/home.grace/cpsc477_kg797/.conda/envs/cpsc577/lib/python3.10/site-packages (from aiohttp->datasets>=2.0.0->evaluate) (4.0.3)\n",
      "Requirement already satisfied: six>=1.5 in /vast/palmer/home.grace/cpsc477_kg797/.conda/envs/cpsc577/lib/python3.10/site-packages (from python-dateutil>=2.8.2->pandas->evaluate) (1.16.0)\n"
     ]
    }
   ],
   "source": [
    "!pip install evaluate"
   ]
  },
  {
   "cell_type": "code",
   "execution_count": 55,
   "id": "2d2de3da-6ee3-4e0c-8278-2ff31470938f",
   "metadata": {},
   "outputs": [
    {
     "name": "stdout",
     "output_type": "stream",
     "text": [
      "Collecting sacrebleu\n",
      "  Downloading sacrebleu-2.4.2-py3-none-any.whl.metadata (58 kB)\n",
      "\u001b[2K     \u001b[90m━━━━━━━━━━━━━━━━━━━━━━━━━━━━━━━━━━━━━━━━\u001b[0m \u001b[32m58.0/58.0 kB\u001b[0m \u001b[31m1.9 MB/s\u001b[0m eta \u001b[36m0:00:00\u001b[0m\n",
      "\u001b[?25hCollecting portalocker (from sacrebleu)\n",
      "  Downloading portalocker-2.8.2-py3-none-any.whl.metadata (8.5 kB)\n",
      "Requirement already satisfied: regex in /vast/palmer/home.grace/cpsc477_kg797/.conda/envs/cpsc577/lib/python3.10/site-packages (from sacrebleu) (2024.4.16)\n",
      "Collecting tabulate>=0.8.9 (from sacrebleu)\n",
      "  Downloading tabulate-0.9.0-py3-none-any.whl.metadata (34 kB)\n",
      "Requirement already satisfied: numpy>=1.17 in /vast/palmer/home.grace/cpsc477_kg797/.conda/envs/cpsc577/lib/python3.10/site-packages (from sacrebleu) (1.26.4)\n",
      "Requirement already satisfied: colorama in /vast/palmer/home.grace/cpsc477_kg797/.conda/envs/cpsc577/lib/python3.10/site-packages (from sacrebleu) (0.4.6)\n",
      "Collecting lxml (from sacrebleu)\n",
      "  Downloading lxml-5.2.1-cp310-cp310-manylinux_2_28_x86_64.whl.metadata (3.4 kB)\n",
      "Downloading sacrebleu-2.4.2-py3-none-any.whl (106 kB)\n",
      "\u001b[2K   \u001b[90m━━━━━━━━━━━━━━━━━━━━━━━━━━━━━━━━━━━━━━━━\u001b[0m \u001b[32m106.7/106.7 kB\u001b[0m \u001b[31m3.1 MB/s\u001b[0m eta \u001b[36m0:00:00\u001b[0m\n",
      "\u001b[?25hDownloading tabulate-0.9.0-py3-none-any.whl (35 kB)\n",
      "Downloading lxml-5.2.1-cp310-cp310-manylinux_2_28_x86_64.whl (5.0 MB)\n",
      "\u001b[2K   \u001b[90m━━━━━━━━━━━━━━━━━━━━━━━━━━━━━━━━━━━━━━━━\u001b[0m \u001b[32m5.0/5.0 MB\u001b[0m \u001b[31m41.6 MB/s\u001b[0m eta \u001b[36m0:00:00\u001b[0m00:01\u001b[0m00:01\u001b[0m\n",
      "\u001b[?25hDownloading portalocker-2.8.2-py3-none-any.whl (17 kB)\n",
      "Installing collected packages: tabulate, portalocker, lxml, sacrebleu\n",
      "Successfully installed lxml-5.2.1 portalocker-2.8.2 sacrebleu-2.4.2 tabulate-0.9.0\n"
     ]
    }
   ],
   "source": [
    "!pip install sacrebleu"
   ]
  },
  {
   "cell_type": "code",
   "execution_count": null,
   "id": "be5c3a2f-e2e4-44bc-b01e-34098337284b",
   "metadata": {},
   "outputs": [],
   "source": []
  }
 ],
 "metadata": {
  "kernelspec": {
   "display_name": "Python 3 (ipykernel)",
   "language": "python",
   "name": "python3"
  },
  "language_info": {
   "codemirror_mode": {
    "name": "ipython",
    "version": 3
   },
   "file_extension": ".py",
   "mimetype": "text/x-python",
   "name": "python",
   "nbconvert_exporter": "python",
   "pygments_lexer": "ipython3",
   "version": "3.10.14"
  }
 },
 "nbformat": 4,
 "nbformat_minor": 5
}
